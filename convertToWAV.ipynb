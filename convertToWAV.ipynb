{
 "cells": [
  {
   "cell_type": "code",
   "execution_count": 12,
   "metadata": {},
   "outputs": [],
   "source": [
    "import subprocess as sp\n",
    "import glob\n",
    "import numpy as np\n",
    "import os\n",
    "from pydub import AudioSegment\n",
    "import platform"
   ]
  },
  {
   "cell_type": "code",
   "execution_count": 90,
   "metadata": {},
   "outputs": [],
   "source": [
    "def get_paths_of_language(source_path, language):\n",
    "    languages = [f.name for f in os.scandir(source_path)]\n",
    "    if not language in languages:\n",
    "        print('You do not have any data of this language!')\n",
    "        return None\n",
    "    else:\n",
    "        paths = []\n",
    "        dirs = ['train', 'test', 'validate']\n",
    "        for folder in dirs:\n",
    "            if platform.system() == 'Windows':\n",
    "                paths.append(source_path + \"\\\\\" + language + \"\\\\\" + folder + \"\\\\\" + '\\\\')\n",
    "            else:\n",
    "                paths.append(source_path + \"/\" + language + \"/\" + folder + \"/\")\n",
    "        return paths\n",
    "    \n",
    "def convert_to_windows_path(path):\n",
    "    return \"\\\\\".join(path.split('/'))"
   ]
  },
  {
   "cell_type": "code",
   "execution_count": 91,
   "metadata": {},
   "outputs": [
    {
     "name": "stdout",
     "output_type": "stream",
     "text": [
      "Downsampled/nl/train_wav_clips/\n",
      "Downsampled/nl/test_wav_clips/\n",
      "Downsampled/nl/validate_wav_clips/\n"
     ]
    }
   ],
   "source": [
    "paths = get_paths_of_language(\"Downsampled\", 'nl')\n",
    "\n",
    "# converteert alle mp3 files naar wav files\n",
    "def convert_mp3_to_wav(paths):\n",
    "    path_sep = \"/\"\n",
    "    if platform.system() == \"Windows\":\n",
    "        path_sep = \"\\\\\"\n",
    "        \n",
    "    for path in paths:\n",
    "        # maakt een lijst van alle mp3 files in een folder.\n",
    "        mp3_file_list = [f.path for f in os.scandir(path)]\n",
    "        \n",
    "        folders = path.split(path_sep)\n",
    "        dst_folder = folders[0] + path_sep + folders[1] + path_sep + folders[2] + \"_wav_clips\" + path_sep\n",
    "        print(dst_folder)\n",
    "#         sp.run(\"rm -r \" + dst_folder, shell=True)\n",
    "#         sp.run(\"mkdir \" + dst_folder, shell=True)\n",
    "\n",
    "        for i, mp3_file in enumerate(mp3_file_list):\n",
    "            src = mp3_file\n",
    "            dst = dst_folder + src.split(path_sep)[-1].split('.')[0] + \".wav\"\n",
    "            sound = AudioSegment.from_mp3(src)\n",
    "            sound.export(dst, format=\"wav\")\n",
    "\n",
    "convert_mp3_to_wav(paths)"
   ]
  }
 ],
 "metadata": {
  "kernelspec": {
   "display_name": "Python 3",
   "language": "python",
   "name": "python3"
  },
  "language_info": {
   "codemirror_mode": {
    "name": "ipython",
    "version": 3
   },
   "file_extension": ".py",
   "mimetype": "text/x-python",
   "name": "python",
   "nbconvert_exporter": "python",
   "pygments_lexer": "ipython3",
   "version": "3.6.3"
  }
 },
 "nbformat": 4,
 "nbformat_minor": 2
}
