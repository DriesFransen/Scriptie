{
 "cells": [
  {
   "cell_type": "code",
   "execution_count": 1,
   "metadata": {},
   "outputs": [],
   "source": [
    "import glob\n",
    "import itertools\n",
    "import numpy as np\n",
    "from os import path\n",
    "from pydub import AudioSegment"
   ]
  },
  {
   "cell_type": "code",
   "execution_count": 3,
   "metadata": {},
   "outputs": [],
   "source": [
    "# maakt een lijst van alle mp3 files in een folder.\n",
    "mp3_file_list = glob.glob(\"speech_data/Dutch/clips/*.mp3\")\n",
    "\n",
    "# converteert alle mp3 files naar wav files\n",
    "def convert_mp3_to_wav():\n",
    "    for i, mp3_file in enumerate(mp3_file_list):\n",
    "        src = mp3_file\n",
    "        dst = \"wav_clips/\" + src.split('/')[-1].split('.')[0] + \".wav\"\n",
    "        sound = AudioSegment.from_mp3(src)\n",
    "        sound.export(dst, format=\"wav\")\n",
    "\n",
    "convert_mp3_to_wav()"
   ]
  }
 ],
 "metadata": {
  "kernelspec": {
   "display_name": "Python 3",
   "language": "python",
   "name": "python3"
  },
  "language_info": {
   "codemirror_mode": {
    "name": "ipython",
    "version": 3
   },
   "file_extension": ".py",
   "mimetype": "text/x-python",
   "name": "python",
   "nbconvert_exporter": "python",
   "pygments_lexer": "ipython3",
   "version": "3.6.3"
  }
 },
 "nbformat": 4,
 "nbformat_minor": 2
}
