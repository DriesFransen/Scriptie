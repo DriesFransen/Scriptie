{
 "cells": [
  {
   "cell_type": "code",
   "execution_count": 5,
   "metadata": {},
   "outputs": [],
   "source": [
    "import numpy as np\n",
    "import pandas as pd\n",
    "from scipy.signal import butter, filtfilt, freqz\n",
    "import librosa\n",
    "from matplotlib import pyplot as plt"
   ]
  },
  {
   "cell_type": "code",
   "execution_count": 7,
   "metadata": {},
   "outputs": [],
   "source": [
    "def butter_lowpass(cutoff, fs, order=5):\n",
    "    nyq = 0.5 * fs\n",
    "    normal_cutoff = cutoff / nyq\n",
    "    b, a = butter(order, normal_cutoff, btype='low', analog=False)\n",
    "    return b, a\n",
    "\n",
    "def butter_lowpass_filter(data, cutoff, fs, order=5):\n",
    "    b, a = butter_lowpass(cutoff, fs, order)\n",
    "    y = filtfilt(b, a, data)\n",
    "    return y"
   ]
  },
  {
   "cell_type": "code",
   "execution_count": null,
   "metadata": {},
   "outputs": [],
   "source": [
    "# Loading the data\n",
    "data, sr = librosa.load('E:/Users/Remco/Documents/UvA/Scriptie/Data/sound1.wav')\n",
    "# samplerate = pd.DataFrame(sr)\n",
    "# print(samplerate)\n",
    "\n",
    "# Variables needed for the filter\n",
    "order = 6\n",
    "fs = sr                 # sample rate, Hz\n",
    "cutoff = 400            # desired cutoff frequency of the filter, Hz\n",
    "# print(fs)\n",
    "\n",
    "# Variables for plotting\n",
    "n = len(data)           # total number of samples\n",
    "T = n / fs              # seconds\n",
    "t = np.linspace(0, T, n)\n",
    "\n",
    "# Plot the data for a baseline\n",
    "line_1, = plt.plot(t, data, linewidth=.2, c='dimgrey', label='Unfiltered audio')\n",
    "\n",
    "# Applying the low-pass filter\n",
    "filtered = butter_lowpass_filter(data, cutoff, fs, order)\n",
    "\n",
    "# Plot the filtered data\n",
    "line_2, = plt.plot(t, filtered, linewidth=.2, c='limegreen', label='Filtered audio')\n",
    "plt.title(\"Low-pass Filter Result\")\n",
    "plt.xlabel('Time in seconds')\n",
    "plt.grid()\n",
    "leg = plt.legend(handles=[line_1, line_2])\n",
    "for legobj in leg.legendHandles:\n",
    "    legobj.set_linewidth(1.0)\n",
    "plt.show()\n",
    "\n",
    "# Export as .wav file\n",
    "# librosa.output.write_wav('E:/Users/Remco/Documents/UvA/Scriptie/Data/lowpasstest.wav', filtered, fs)"
   ]
  }
 ],
 "metadata": {
  "kernelspec": {
   "display_name": "Python 3",
   "language": "python",
   "name": "python3"
  },
  "language_info": {
   "codemirror_mode": {
    "name": "ipython",
    "version": 3
   },
   "file_extension": ".py",
   "mimetype": "text/x-python",
   "name": "python",
   "nbconvert_exporter": "python",
   "pygments_lexer": "ipython3",
   "version": "3.6.3"
  }
 },
 "nbformat": 4,
 "nbformat_minor": 4
}
