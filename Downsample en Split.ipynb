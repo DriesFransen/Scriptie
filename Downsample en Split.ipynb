{
 "cells": [
  {
   "cell_type": "code",
   "execution_count": 1,
   "metadata": {},
   "outputs": [],
   "source": [
    "import subprocess as sp\n",
    "import os\n",
    "import pandas as pd\n",
    "import math\n",
    "import random"
   ]
  },
  {
   "cell_type": "code",
   "execution_count": 2,
   "metadata": {},
   "outputs": [],
   "source": [
    "def clips_size_mB(path):\n",
    "    try:\n",
    "        return int(sp.run(\"du -s \" + path, stdout=sp.PIPE, shell=True).stdout.decode(\"utf-8\").split(\"\\t\")[0])\n",
    "    except ValueError:\n",
    "        pass\n",
    "    return 0\n",
    "\n",
    "def sort_age_gen_occ(df):\n",
    "    age_gen_occ_dict = {}\n",
    "    for age in dict(df.age.value_counts()):\n",
    "        for gender in [\"male\", \"female\"]:\n",
    "            age_gen_occ_dict[(age, gender)] = len(df[(df.age == age) & (df.gender == gender)])\n",
    "    age_gen_occ_list = sorted(age_gen_occ_dict, key=age_gen_occ_dict.get)\n",
    "    return age_gen_occ_dict, age_gen_occ_list\n",
    "\n",
    "def print(p=True, *args, **kwargs):\n",
    "    if type(p) == bool:\n",
    "        if p:\n",
    "            return __builtins__.print(*args, **kwargs)\n",
    "        return\n",
    "    return __builtins__.print(p, *args, **kwargs)"
   ]
  },
  {
   "cell_type": "code",
   "execution_count": 3,
   "metadata": {
    "scrolled": false
   },
   "outputs": [
    {
     "data": {
      "text/plain": [
       "821"
      ]
     },
     "execution_count": 3,
     "metadata": {},
     "output_type": "execute_result"
    }
   ],
   "source": [
    "def downsample_language(path, new_size_mB, extension=\".wav\", p=False):\n",
    "    path = '/'.join(path.split('/')) + '/'\n",
    "    old_size_mB = clips_size_mB(path + \"clips\")\n",
    "    df = pd.read_csv(path + \"validated.tsv\", sep=\"\\t\")\n",
    "    if old_size_mB <= new_size_mB:\n",
    "        print(p, \"\\nthe dataset cannot be downsampled to this size because it is not large enough\")\n",
    "        return [clip.split('.')[0] + '.' + extension.split('.')[-1] for clip in list(df.path)]\n",
    "    \n",
    "    df = pd.read_csv(path + \"validated.tsv\", sep=\"\\t\")\n",
    "    clips_needed = int((new_size_mB / old_size_mB) * len(df))\n",
    "    age_dict = dict(df.age.value_counts())\n",
    "    clips_per_group = math.ceil(clips_needed / (len(age_dict) * 2))\n",
    "    \n",
    "    age_gen_occ_dict, age_gen_occ_list = sort_age_gen_occ(df)\n",
    "    \n",
    "    selected_clips = []\n",
    "    i = 0\n",
    "    print(p, \"data length:\", len(df), \"\\t\\tclips needed:\", clips_needed)\n",
    "    for age, gender in age_gen_occ_list:\n",
    "\n",
    "        i += 1\n",
    "        current = df[(df.age == age) & (df.gender == gender)]\n",
    "        now_selected = []\n",
    "        if len(current) < clips_per_group:\n",
    "            print(p, \"\\tclips_per_group was\", clips_per_group)\n",
    "            clips_needed -= len(current)\n",
    "            try:\n",
    "                clips_per_group = math.ceil(clips_needed / ((len(age_dict) * 2) - i))\n",
    "            except ZeroDivisionError:\n",
    "                clips_per_group = clips_needed\n",
    "            now_selected = current\n",
    "            selected_clips += list(now_selected.path)\n",
    "            print(p, \"\\tnot enough clips for\", age, gender, \"so appending\", len(now_selected))\n",
    "            print(p, \"\\tclips_per_group now is\", clips_per_group)\n",
    "        else:\n",
    "            now_selected = current.sample(clips_per_group)\n",
    "            selected_clips += list(now_selected.path)\n",
    "            clips_needed -= clips_per_group\n",
    "            print(p, \"\\tenough clips for\", age, gender, \\\n",
    "                  \"(\" + str(age_gen_occ_dict[(age, gender)]), \"total), so appending\", len(now_selected))\n",
    "        df.drop(now_selected.index, inplace=True)\n",
    "        print(p, \"\\ndata length:\", len(df), \"\\t\\tclips needed:\", clips_needed)\n",
    "            \n",
    "    if clips_needed > 0:\n",
    "        if len(df) < clips_needed:\n",
    "            print(p, \"\\nnot enough labeled clips found, so appending\", clips_needed, \"unlabeled ones\")\n",
    "            selected_clips += list(df.sample(clips_needed).path)\n",
    "        else:\n",
    "            print(p, \"\\nthe dataset cannot be downsampled to this size because it is not large enough\")\n",
    "            selected_clips += list(df.path)\n",
    "            \n",
    "    return [clip.split('.')[0] + '.' + extension.split('.')[-1] for clip in selected_clips]\n",
    "        \n",
    "    \n",
    "len(downsample_language(\"Data/nl\", 36000))"
   ]
  },
  {
   "cell_type": "code",
   "execution_count": 4,
   "metadata": {},
   "outputs": [
    {
     "data": {
      "text/plain": [
       "575"
      ]
     },
     "execution_count": 4,
     "metadata": {},
     "output_type": "execute_result"
    }
   ],
   "source": [
    "def split_train_test_validate(data, weights):\n",
    "    if type(weights) != dict:\n",
    "        try:\n",
    "            weights = {\"train\": weights[0], \"test\": weights[1], \"validate\": weights[2]}\n",
    "        except:\n",
    "            print(\"Geen iterable\")\n",
    "            return\n",
    "        \n",
    "    weights = {k:w/sum(weights.values()) for k, w in weights.items()}\n",
    "    random.shuffle(data)\n",
    "    \n",
    "    train = data[:math.ceil(len(data) * weights[\"train\"])]\n",
    "    test = data[math.ceil(len(data) * weights[\"train\"]):\\\n",
    "                math.ceil(len(data) * (weights[\"test\"] + weights[\"test\"]))]\n",
    "    validate = data[math.ceil(len(data) * (weights[\"test\"] + weights[\"test\"])):]\n",
    "    \n",
    "    return {\"train\":train, \"test\":test, \"validate\":validate}\n",
    "    \n",
    "len(split_train_test_validate(downsample_language(\"Data/nl\", 36000), [7, 2, 1])[\"train\"])"
   ]
  }
 ],
 "metadata": {
  "kernelspec": {
   "display_name": "Python 3",
   "language": "python",
   "name": "python3"
  },
  "language_info": {
   "codemirror_mode": {
    "name": "ipython",
    "version": 3
   },
   "file_extension": ".py",
   "mimetype": "text/x-python",
   "name": "python",
   "nbconvert_exporter": "python",
   "pygments_lexer": "ipython3",
   "version": "3.6.9"
  }
 },
 "nbformat": 4,
 "nbformat_minor": 2
}
