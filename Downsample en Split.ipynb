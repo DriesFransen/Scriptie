{
 "cells": [
  {
   "cell_type": "code",
   "execution_count": 6,
   "metadata": {},
   "outputs": [],
   "source": [
    "import subprocess as sp\n",
    "import os\n",
    "import pandas as pd\n",
    "import math\n",
    "import random\n"
   ]
  },
  {
   "cell_type": "code",
   "execution_count": 7,
   "metadata": {},
   "outputs": [],
   "source": [
    "def clips_size_kB(path):\n",
    "    try:\n",
    "        return int(sp.run(\"du -s \" + path, stdout=sp.PIPE, shell=True).stdout.decode(\"utf-8\").split(\"\\t\")[0])\n",
    "    except ValueError:\n",
    "        pass\n",
    "    return 0\n",
    "\n",
    "def sort_age_gen_occ(df):\n",
    "    age_gen_occ_dict = {}\n",
    "    for age in dict(df.age.value_counts()):\n",
    "        for gender in [\"male\", \"female\"]:\n",
    "            age_gen_occ_dict[(age, gender)] = len(df[(df.age == age) & (df.gender == gender)])\n",
    "    age_gen_occ_list = sorted(age_gen_occ_dict, key=age_gen_occ_dict.get)\n",
    "    return age_gen_occ_dict, age_gen_occ_list\n",
    "\n",
    "def print(p=True, *args, **kwargs):\n",
    "    if type(p) == bool:\n",
    "        if p:\n",
    "            return __builtins__.print(*args, **kwargs)\n",
    "        return\n",
    "    return __builtins__.print(p, *args, **kwargs)\n"
   ]
  },
  {
   "cell_type": "code",
   "execution_count": 8,
   "metadata": {
    "scrolled": false
   },
   "outputs": [],
   "source": [
    "def downsample_language(path, new_size_kB, extension=\".wav\", p=False):\n",
    "    path = '/'.join(path.split('/')) + '/'\n",
    "    old_size_kB = clips_size_kB(path + \"clips\")\n",
    "    df = pd.read_csv(path + \"validated.tsv\", sep=\"\\t\", dtype=object)\n",
    "    if old_size_kB <= new_size_kB:\n",
    "        print(p, \"\\nthe dataset cannot be downsampled to this size because it is not large enough\")\n",
    "        return [clip.split('.')[0] + '.' + extension.split('.')[-1] for clip in list(df.path)]\n",
    "    \n",
    "    df = pd.read_csv(path + \"validated.tsv\", sep=\"\\t\", dtype=object)\n",
    "    clips_needed = int((new_size_kB / old_size_kB) * len(df))\n",
    "    age_dict = dict(df.age.value_counts())\n",
    "    clips_per_group = math.ceil(clips_needed / (len(age_dict) * 2))\n",
    "    \n",
    "    age_gen_occ_dict, age_gen_occ_list = sort_age_gen_occ(df)\n",
    "    \n",
    "    selected_clips = []\n",
    "    i = 0\n",
    "    print(p, \"data length:\", len(df), \"\\t\\tclips needed:\", clips_needed)\n",
    "    for age, gender in age_gen_occ_list:\n",
    "\n",
    "        i += 1\n",
    "        current = df[(df.age == age) & (df.gender == gender)]\n",
    "        now_selected = []\n",
    "        if len(current) < clips_per_group:\n",
    "            print(p, \"\\tclips_per_group was\", clips_per_group)\n",
    "            clips_needed -= len(current)\n",
    "            try:\n",
    "                clips_per_group = math.ceil(clips_needed / ((len(age_dict) * 2) - i))\n",
    "            except ZeroDivisionError:\n",
    "                clips_per_group = clips_needed\n",
    "            now_selected = current\n",
    "            selected_clips += list(now_selected.path)\n",
    "            print(p, \"\\tnot enough clips for\", age, gender, \"so appending\", len(now_selected))\n",
    "            print(p, \"\\tclips_per_group now is\", clips_per_group)\n",
    "        else:\n",
    "            now_selected = current.sample(clips_per_group)\n",
    "            selected_clips += list(now_selected.path)\n",
    "            clips_needed -= clips_per_group\n",
    "            print(p, \"\\tenough clips for\", age, gender, \\\n",
    "                  \"(\" + str(age_gen_occ_dict[(age, gender)]), \"total), so appending\", len(now_selected))\n",
    "        df.drop(now_selected.index, inplace=True)\n",
    "        print(p, \"\\ndata length:\", len(df), \"\\t\\tclips needed:\", clips_needed)\n",
    "            \n",
    "    if clips_needed > 0:\n",
    "        if len(df) < clips_needed:\n",
    "            print(p, \"\\nnot enough labeled clips found, so appending\", clips_needed, \"unlabeled ones\")\n",
    "            selected_clips += list(df.sample(clips_needed).path)\n",
    "        else:\n",
    "            print(p, \"\\nthe dataset cannot be downsampled to this size because it is not large enough\")\n",
    "            selected_clips += list(df.path)\n",
    "            \n",
    "    return [clip.split('.')[0] + '.' + extension.split('.')[-1] for clip in selected_clips]\n",
    "        \n",
    "    \n",
    "#len(downsample_language(\"speech_data/Dutch\", 36000))\n"
   ]
  },
  {
   "cell_type": "code",
   "execution_count": 9,
   "metadata": {},
   "outputs": [],
   "source": [
    "def split_train_test_validate(data, weights):\n",
    "    if type(weights) != dict:\n",
    "        try:\n",
    "            weights = {\"train\": weights[0], \"test\": weights[1], \"validate\": weights[2]}\n",
    "        except:\n",
    "            print(\"Geen iterable\")\n",
    "            return\n",
    "        \n",
    "    weights = {k:w/sum(weights.values()) for k, w in weights.items()}\n",
    "    random.shuffle(data)\n",
    "    \n",
    "    train = data[:math.ceil(len(data) * weights[\"train\"])]\n",
    "    test = data[math.ceil(len(data) * weights[\"train\"]):\\\n",
    "                math.ceil(len(data) * (weights[\"train\"] + weights[\"test\"]))]\n",
    "    validate = data[math.ceil(len(data) * (weights[\"train\"] + weights[\"test\"])):]\n",
    "    \n",
    "    return {\"train\":train, \"test\":test, \"validate\":validate}\n",
    "    \n",
    "#len(split_train_test_validate(downsample_language(\"Data/nl\", 3000), [7, 2, 1])[\"train\"])\n"
   ]
  },
  {
   "cell_type": "code",
   "execution_count": 10,
   "metadata": {
    "scrolled": true
   },
   "outputs": [],
   "source": [
    "def downsample_wrapped(path, new_size_kB, extension=\".wav\", p=False, destination_name=\"/general\"):\n",
    "    path = '/'.join(path.split('/')) + '/'\n",
    "    destination = \"Downsampled/\" + path.split('/')[-2] + '/' + \\\n",
    "                '/'.join([c for c in destination_name.split('/') if c]) \n",
    "    \n",
    "    sp.run(\"rm -r \" + destination, shell=True)\n",
    "    sp.run(\"mkdir Downsampled\", shell=True)\n",
    "    sp.run(\"mkdir \" + '/'.join(destination.split('/')[:2]), shell=True)\n",
    "    sp.run(\"mkdir \" + destination, shell=True)\n",
    "\n",
    "    samples = downsample_language(path, new_size_kB, extension, p)\n",
    "    for sample in samples:\n",
    "        sp.run(\"cp \"+ path + \"clips/\" + sample + ' ' + destination, shell=True)\n",
    "    \n",
    "#downsample_wrapped(\"Data/nl\", 3000, extension=\".mp3\")\n"
   ]
  },
  {
   "cell_type": "code",
   "execution_count": 11,
   "metadata": {
    "scrolled": false
   },
   "outputs": [],
   "source": [
    "def downsample_split_wrapped(path, new_size_kB, split_weights, extension=\".wav\", p=False):    \n",
    "    path = '/'.join(path.split('/')) + '/'\n",
    "    \n",
    "    sp.run(\"mkdir Downsampled\", shell=True)\n",
    "    sp.run(\"mkdir Downsampled/\" + path.split('/')[-2], shell=True)\n",
    "\n",
    "    samples = downsample_language(path, new_size_kB, extension, p)\n",
    "    splits = split_train_test_validate(samples, split_weights)\n",
    "\n",
    "    for split in splits:\n",
    "        destination = \"Downsampled/\" + path.split('/')[-2] + \"/\" + split\n",
    "        sp.run(\"rm -r \" + destination, shell=True)\n",
    "        sp.run(\"mkdir \" + destination, shell=True)\n",
    "        for sample in splits[split]:\n",
    "            copy = sp.run(\"cp \"+ path + \"clips/\" + sample + ' ' + destination, shell=True)\n",
    "            print(p, \"completed copying\", sample, \"to\", destination, \"with return code\", copy.returncode)\n",
    "            \n",
    "#downsample_split_wrapped(\"Data/nl\", 3000, [7, 2, 1], extension=\".mp3\", p=True)\n"
   ]
  },
  {
   "cell_type": "markdown",
   "metadata": {},
   "source": [
    "# Downsampling and splitting"
   ]
  },
  {
   "cell_type": "code",
   "execution_count": 12,
   "metadata": {},
   "outputs": [
    {
     "ename": "KeyboardInterrupt",
     "evalue": "",
     "output_type": "error",
     "traceback": [
      "\u001b[1;31m---------------------------------------------------------------------------\u001b[0m",
      "\u001b[1;31mKeyboardInterrupt\u001b[0m                         Traceback (most recent call last)",
      "\u001b[1;32m<ipython-input-12-ab50e4d7e4fd>\u001b[0m in \u001b[0;36m<module>\u001b[1;34m\u001b[0m\n\u001b[1;32m----> 1\u001b[1;33m \u001b[0mdownsample_split_wrapped\u001b[0m\u001b[1;33m(\u001b[0m\u001b[1;34m\"E:/Users/Remco/Documents/UvA/Scriptie/Data/en\"\u001b[0m\u001b[1;33m,\u001b[0m \u001b[1;36m200000\u001b[0m\u001b[1;33m,\u001b[0m \u001b[1;33m[\u001b[0m\u001b[1;36m70\u001b[0m\u001b[1;33m,\u001b[0m\u001b[1;36m15\u001b[0m\u001b[1;33m,\u001b[0m\u001b[1;36m15\u001b[0m\u001b[1;33m]\u001b[0m\u001b[1;33m,\u001b[0m \u001b[0mextension\u001b[0m\u001b[1;33m=\u001b[0m\u001b[1;34m\".mp3\"\u001b[0m\u001b[1;33m)\u001b[0m\u001b[1;33m\u001b[0m\u001b[0m\n\u001b[0m\u001b[0;32m      2\u001b[0m \u001b[1;33m\u001b[0m\u001b[0m\n\u001b[0;32m      3\u001b[0m \u001b[0mdownsample_split_wrapped\u001b[0m\u001b[1;33m(\u001b[0m\u001b[1;34m\"E:/Users/Remco/Documents/UvA/Scriptie/Data/es\"\u001b[0m\u001b[1;33m,\u001b[0m \u001b[1;36m200000\u001b[0m\u001b[1;33m,\u001b[0m \u001b[1;33m[\u001b[0m\u001b[1;36m70\u001b[0m\u001b[1;33m,\u001b[0m\u001b[1;36m15\u001b[0m\u001b[1;33m,\u001b[0m\u001b[1;36m15\u001b[0m\u001b[1;33m]\u001b[0m\u001b[1;33m,\u001b[0m \u001b[0mextension\u001b[0m\u001b[1;33m=\u001b[0m\u001b[1;34m\".mp3\"\u001b[0m\u001b[1;33m)\u001b[0m\u001b[1;33m\u001b[0m\u001b[0m\n\u001b[0;32m      4\u001b[0m \u001b[1;33m\u001b[0m\u001b[0m\n\u001b[0;32m      5\u001b[0m \u001b[0mdownsample_split_wrapped\u001b[0m\u001b[1;33m(\u001b[0m\u001b[1;34m\"E:/Users/Remco/Documents/UvA/Scriptie/Data/it\"\u001b[0m\u001b[1;33m,\u001b[0m \u001b[1;36m200000\u001b[0m\u001b[1;33m,\u001b[0m \u001b[1;33m[\u001b[0m\u001b[1;36m70\u001b[0m\u001b[1;33m,\u001b[0m\u001b[1;36m15\u001b[0m\u001b[1;33m,\u001b[0m\u001b[1;36m15\u001b[0m\u001b[1;33m]\u001b[0m\u001b[1;33m,\u001b[0m \u001b[0mextension\u001b[0m\u001b[1;33m=\u001b[0m\u001b[1;34m\".mp3\"\u001b[0m\u001b[1;33m)\u001b[0m\u001b[1;33m\u001b[0m\u001b[0m\n",
      "\u001b[1;32m<ipython-input-11-495e92ced376>\u001b[0m in \u001b[0;36mdownsample_split_wrapped\u001b[1;34m(path, new_size_kB, split_weights, extension, p)\u001b[0m\n\u001b[0;32m     13\u001b[0m         \u001b[0msp\u001b[0m\u001b[1;33m.\u001b[0m\u001b[0mrun\u001b[0m\u001b[1;33m(\u001b[0m\u001b[1;34m\"mkdir \"\u001b[0m \u001b[1;33m+\u001b[0m \u001b[0mdestination\u001b[0m\u001b[1;33m,\u001b[0m \u001b[0mshell\u001b[0m\u001b[1;33m=\u001b[0m\u001b[1;32mTrue\u001b[0m\u001b[1;33m)\u001b[0m\u001b[1;33m\u001b[0m\u001b[0m\n\u001b[0;32m     14\u001b[0m         \u001b[1;32mfor\u001b[0m \u001b[0msample\u001b[0m \u001b[1;32min\u001b[0m \u001b[0msplits\u001b[0m\u001b[1;33m[\u001b[0m\u001b[0msplit\u001b[0m\u001b[1;33m]\u001b[0m\u001b[1;33m:\u001b[0m\u001b[1;33m\u001b[0m\u001b[0m\n\u001b[1;32m---> 15\u001b[1;33m             \u001b[0mcopy\u001b[0m \u001b[1;33m=\u001b[0m \u001b[0msp\u001b[0m\u001b[1;33m.\u001b[0m\u001b[0mrun\u001b[0m\u001b[1;33m(\u001b[0m\u001b[1;34m\"cp \"\u001b[0m\u001b[1;33m+\u001b[0m \u001b[0mpath\u001b[0m \u001b[1;33m+\u001b[0m \u001b[1;34m\"clips/\"\u001b[0m \u001b[1;33m+\u001b[0m \u001b[0msample\u001b[0m \u001b[1;33m+\u001b[0m \u001b[1;34m' '\u001b[0m \u001b[1;33m+\u001b[0m \u001b[0mdestination\u001b[0m\u001b[1;33m,\u001b[0m \u001b[0mshell\u001b[0m\u001b[1;33m=\u001b[0m\u001b[1;32mTrue\u001b[0m\u001b[1;33m)\u001b[0m\u001b[1;33m\u001b[0m\u001b[0m\n\u001b[0m\u001b[0;32m     16\u001b[0m             \u001b[0mprint\u001b[0m\u001b[1;33m(\u001b[0m\u001b[0mp\u001b[0m\u001b[1;33m,\u001b[0m \u001b[1;34m\"completed copying\"\u001b[0m\u001b[1;33m,\u001b[0m \u001b[0msample\u001b[0m\u001b[1;33m,\u001b[0m \u001b[1;34m\"to\"\u001b[0m\u001b[1;33m,\u001b[0m \u001b[0mdestination\u001b[0m\u001b[1;33m,\u001b[0m \u001b[1;34m\"with return code\"\u001b[0m\u001b[1;33m,\u001b[0m \u001b[0mcopy\u001b[0m\u001b[1;33m.\u001b[0m\u001b[0mreturncode\u001b[0m\u001b[1;33m)\u001b[0m\u001b[1;33m\u001b[0m\u001b[0m\n\u001b[0;32m     17\u001b[0m \u001b[1;33m\u001b[0m\u001b[0m\n",
      "\u001b[1;32mc:\\users\\user1\\appdata\\local\\programs\\python\\python36\\lib\\subprocess.py\u001b[0m in \u001b[0;36mrun\u001b[1;34m(input, timeout, check, *popenargs, **kwargs)\u001b[0m\n\u001b[0;32m    403\u001b[0m     \u001b[1;32mwith\u001b[0m \u001b[0mPopen\u001b[0m\u001b[1;33m(\u001b[0m\u001b[1;33m*\u001b[0m\u001b[0mpopenargs\u001b[0m\u001b[1;33m,\u001b[0m \u001b[1;33m**\u001b[0m\u001b[0mkwargs\u001b[0m\u001b[1;33m)\u001b[0m \u001b[1;32mas\u001b[0m \u001b[0mprocess\u001b[0m\u001b[1;33m:\u001b[0m\u001b[1;33m\u001b[0m\u001b[0m\n\u001b[0;32m    404\u001b[0m         \u001b[1;32mtry\u001b[0m\u001b[1;33m:\u001b[0m\u001b[1;33m\u001b[0m\u001b[0m\n\u001b[1;32m--> 405\u001b[1;33m             \u001b[0mstdout\u001b[0m\u001b[1;33m,\u001b[0m \u001b[0mstderr\u001b[0m \u001b[1;33m=\u001b[0m \u001b[0mprocess\u001b[0m\u001b[1;33m.\u001b[0m\u001b[0mcommunicate\u001b[0m\u001b[1;33m(\u001b[0m\u001b[0minput\u001b[0m\u001b[1;33m,\u001b[0m \u001b[0mtimeout\u001b[0m\u001b[1;33m=\u001b[0m\u001b[0mtimeout\u001b[0m\u001b[1;33m)\u001b[0m\u001b[1;33m\u001b[0m\u001b[0m\n\u001b[0m\u001b[0;32m    406\u001b[0m         \u001b[1;32mexcept\u001b[0m \u001b[0mTimeoutExpired\u001b[0m\u001b[1;33m:\u001b[0m\u001b[1;33m\u001b[0m\u001b[0m\n\u001b[0;32m    407\u001b[0m             \u001b[0mprocess\u001b[0m\u001b[1;33m.\u001b[0m\u001b[0mkill\u001b[0m\u001b[1;33m(\u001b[0m\u001b[1;33m)\u001b[0m\u001b[1;33m\u001b[0m\u001b[0m\n",
      "\u001b[1;32mc:\\users\\user1\\appdata\\local\\programs\\python\\python36\\lib\\subprocess.py\u001b[0m in \u001b[0;36mcommunicate\u001b[1;34m(self, input, timeout)\u001b[0m\n\u001b[0;32m    833\u001b[0m                 \u001b[0mstderr\u001b[0m \u001b[1;33m=\u001b[0m \u001b[0mself\u001b[0m\u001b[1;33m.\u001b[0m\u001b[0mstderr\u001b[0m\u001b[1;33m.\u001b[0m\u001b[0mread\u001b[0m\u001b[1;33m(\u001b[0m\u001b[1;33m)\u001b[0m\u001b[1;33m\u001b[0m\u001b[0m\n\u001b[0;32m    834\u001b[0m                 \u001b[0mself\u001b[0m\u001b[1;33m.\u001b[0m\u001b[0mstderr\u001b[0m\u001b[1;33m.\u001b[0m\u001b[0mclose\u001b[0m\u001b[1;33m(\u001b[0m\u001b[1;33m)\u001b[0m\u001b[1;33m\u001b[0m\u001b[0m\n\u001b[1;32m--> 835\u001b[1;33m             \u001b[0mself\u001b[0m\u001b[1;33m.\u001b[0m\u001b[0mwait\u001b[0m\u001b[1;33m(\u001b[0m\u001b[1;33m)\u001b[0m\u001b[1;33m\u001b[0m\u001b[0m\n\u001b[0m\u001b[0;32m    836\u001b[0m         \u001b[1;32melse\u001b[0m\u001b[1;33m:\u001b[0m\u001b[1;33m\u001b[0m\u001b[0m\n\u001b[0;32m    837\u001b[0m             \u001b[1;32mif\u001b[0m \u001b[0mtimeout\u001b[0m \u001b[1;32mis\u001b[0m \u001b[1;32mnot\u001b[0m \u001b[1;32mNone\u001b[0m\u001b[1;33m:\u001b[0m\u001b[1;33m\u001b[0m\u001b[0m\n",
      "\u001b[1;32mc:\\users\\user1\\appdata\\local\\programs\\python\\python36\\lib\\subprocess.py\u001b[0m in \u001b[0;36mwait\u001b[1;34m(self, timeout, endtime)\u001b[0m\n\u001b[0;32m   1053\u001b[0m             \u001b[1;32mif\u001b[0m \u001b[0mself\u001b[0m\u001b[1;33m.\u001b[0m\u001b[0mreturncode\u001b[0m \u001b[1;32mis\u001b[0m \u001b[1;32mNone\u001b[0m\u001b[1;33m:\u001b[0m\u001b[1;33m\u001b[0m\u001b[0m\n\u001b[0;32m   1054\u001b[0m                 result = _winapi.WaitForSingleObject(self._handle,\n\u001b[1;32m-> 1055\u001b[1;33m                                                     timeout_millis)\n\u001b[0m\u001b[0;32m   1056\u001b[0m                 \u001b[1;32mif\u001b[0m \u001b[0mresult\u001b[0m \u001b[1;33m==\u001b[0m \u001b[0m_winapi\u001b[0m\u001b[1;33m.\u001b[0m\u001b[0mWAIT_TIMEOUT\u001b[0m\u001b[1;33m:\u001b[0m\u001b[1;33m\u001b[0m\u001b[0m\n\u001b[0;32m   1057\u001b[0m                     \u001b[1;32mraise\u001b[0m \u001b[0mTimeoutExpired\u001b[0m\u001b[1;33m(\u001b[0m\u001b[0mself\u001b[0m\u001b[1;33m.\u001b[0m\u001b[0margs\u001b[0m\u001b[1;33m,\u001b[0m \u001b[0mtimeout\u001b[0m\u001b[1;33m)\u001b[0m\u001b[1;33m\u001b[0m\u001b[0m\n",
      "\u001b[1;31mKeyboardInterrupt\u001b[0m: "
     ]
    }
   ],
   "source": [
    "downsample_split_wrapped(\"E:/Users/Remco/Documents/UvA/Scriptie/Data/en\", 200000, [70,15,15], extension=\".mp3\")\n",
    "\n",
    "downsample_split_wrapped(\"E:/Users/Remco/Documents/UvA/Scriptie/Data/es\", 200000, [70,15,15], extension=\".mp3\")\n",
    "\n",
    "downsample_split_wrapped(\"E:/Users/Remco/Documents/UvA/Scriptie/Data/it\", 200000, [70,15,15], extension=\".mp3\")\n",
    "\n",
    "downsample_split_wrapped(\"E:/Users/Remco/Documents/UvA/Scriptie/Data/nl\", 200000, [70,15,15], extension=\".mp3\")"
   ]
  },
  {
   "cell_type": "code",
   "execution_count": null,
   "metadata": {},
   "outputs": [],
   "source": []
  }
 ],
 "metadata": {
  "kernelspec": {
   "display_name": "Python 3",
   "language": "python",
   "name": "python3"
  },
  "language_info": {
   "codemirror_mode": {
    "name": "ipython",
    "version": 3
   },
   "file_extension": ".py",
   "mimetype": "text/x-python",
   "name": "python",
   "nbconvert_exporter": "python",
   "pygments_lexer": "ipython3",
   "version": "3.6.3"
  }
 },
 "nbformat": 4,
 "nbformat_minor": 2
}
