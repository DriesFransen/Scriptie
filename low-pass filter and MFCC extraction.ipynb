{
 "cells": [
  {
   "cell_type": "code",
   "execution_count": 121,
   "metadata": {},
   "outputs": [],
   "source": [
    "import librosa\n",
    "import librosa.display\n",
    "import glob\n",
    "from scipy.signal import butter, filtfilt, freqz\n",
    "import numpy as np\n",
    "import matplotlib.pyplot as plt\n",
    "import json"
   ]
  },
  {
   "cell_type": "code",
   "execution_count": 3,
   "metadata": {},
   "outputs": [],
   "source": [
    "def butter_lowpass(cutoff, fs, order=5):\n",
    "    nyq = 0.5 * fs\n",
    "    normal_cutoff = cutoff / nyq\n",
    "    b, a = butter(order, normal_cutoff, btype='low', analog=False)\n",
    "    return b, a\n",
    "\n",
    "def butter_lowpass_filter(data, cutoff, fs, order=5):\n",
    "    b, a = butter_lowpass(cutoff, fs, order)\n",
    "    y = filtfilt(b, a, data)\n",
    "    return np.array(y)"
   ]
  },
  {
   "cell_type": "code",
   "execution_count": 4,
   "metadata": {},
   "outputs": [],
   "source": [
    "def plot_audio(data):\n",
    "    plt.figure(figsize=(10, 4))\n",
    "    # Variables for plotting\n",
    "    n = len(data)           # total number of samples\n",
    "    T = n / fs              # seconds\n",
    "    t = np.linspace(0, T, n)\n",
    "    plt.plot(t, data, linewidth=.2)\n",
    "    plt.show()"
   ]
  },
  {
   "cell_type": "code",
   "execution_count": 105,
   "metadata": {},
   "outputs": [],
   "source": [
    "def get_MFCC_per_folder(folder_name, cutoff=400, order=6, top_db=20):\n",
    "    wav_file_list = glob.glob(folder_name + \"*.wav\")\n",
    "    mfcc_dataset = []\n",
    "    for wav_file in wav_file_list:\n",
    "        sound, sampling_rate = librosa.load(wav_file)\n",
    "        fs = sampling_rate   # sample rate, Hz\n",
    "        \n",
    "        # low-pass filter the sound by removing all frequencies\n",
    "        # above the cutoff value (default=400 Hz)\n",
    "        low_passed_sound = butter_lowpass_filter(sound, cutoff, fs, order)\n",
    "        \n",
    "        # Trim the silent parts of the speech signal\n",
    "        low_passed_trimmed_sound, _ = librosa.effects.trim(low_passed_sound, top_db=top_db)\n",
    "        \n",
    "        # Calculate the MFCC values of the low-pass filtered and trimmed speech signal\n",
    "        mfccs = librosa.feature.mfcc(y=low_passed_trimmed_sound, sr=sampling_rate, n_mfcc=12).tolist()\n",
    "        mfcc_dataset.append(mfccs)\n",
    "    return mfcc_dataset"
   ]
  },
  {
   "cell_type": "code",
   "execution_count": 140,
   "metadata": {},
   "outputs": [],
   "source": [
    "def save_MFCC_as_json(MFCC_data, filename):\n",
    "    with open(filename, 'w', encoding='utf-8') as f:\n",
    "        json.dump(MFCC_data, f, ensure_ascii=False, indent=4)\n",
    "    return None\n",
    "\n",
    "def load_MFCC_from_json(filename):\n",
    "    with open(filename, 'r', encoding='utf-8') as f:\n",
    "        MFCC_dataset = json.load(f)\n",
    "    return MFCC_dataset"
   ]
  },
  {
   "cell_type": "code",
   "execution_count": 152,
   "metadata": {},
   "outputs": [],
   "source": [
    "# IMPORTANT: in case you have downloaded the data in a different audio format (for example in .mp3)\n",
    "# convert all audio files that you want to use into .wav files\n",
    "\n",
    "paths = [\"Downsampled/dummy_clips/train_wav_clips/\",\n",
    "         \"Downsampled/dummy_clips/test_wav_clips/\",\n",
    "         \"Downsampled/dummy_clips/validate_wav_clips/\"]\n",
    "\n",
    "# Variables needed for the filter\n",
    "order = 6\n",
    "cutoff = 400            # desired cutoff frequency of the filter, Hz\n",
    "\n",
    "MFCC_train_set = get_MFCC_per_folder(paths[0])\n",
    "MFCC_test_set = get_MFCC_per_folder(paths[1])\n",
    "MFCC_validate_set = get_MFCC_per_folder(paths[2])\n",
    "\n",
    "# save data in json files\n",
    "save_MFCC_as_json(MFCC_train_set, 'MFCC_train.json')\n",
    "save_MFCC_as_json(MFCC_test_set, 'MFCC_test.json')\n",
    "save_MFCC_as_json(MFCC_validate_set, 'MFCC_validate.json')"
   ]
  }
 ],
 "metadata": {
  "kernelspec": {
   "display_name": "Python 3",
   "language": "python",
   "name": "python3"
  },
  "language_info": {
   "codemirror_mode": {
    "name": "ipython",
    "version": 3
   },
   "file_extension": ".py",
   "mimetype": "text/x-python",
   "name": "python",
   "nbconvert_exporter": "python",
   "pygments_lexer": "ipython3",
   "version": "3.6.3"
  }
 },
 "nbformat": 4,
 "nbformat_minor": 2
}
